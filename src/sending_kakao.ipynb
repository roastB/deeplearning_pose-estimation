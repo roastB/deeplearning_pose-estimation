{
 "cells": [
  {
   "cell_type": "markdown",
   "id": "0c748723",
   "metadata": {},
   "source": [
    "### Kakao API 메세지 전송"
   ]
  },
  {
   "cell_type": "code",
   "execution_count": 17,
   "id": "378238ba",
   "metadata": {},
   "outputs": [
    {
     "data": {
      "text/plain": [
       "True"
      ]
     },
     "execution_count": 17,
     "metadata": {},
     "output_type": "execute_result"
    }
   ],
   "source": [
    "import webbrowser\n",
    "\n",
    "# REST API Key\n",
    "REST_API_KEY = 'bea1b1cc6f050b372d5abf9c9709fceb'\n",
    "REDIRECT_URI = 'http://127.0.0.1:3000/'\n",
    "AUTH_URL = f\"https://kauth.kakao.com/oauth/authorize?response_type=code&client_id={REST_API_KEY}&redirect_uri={REDIRECT_URI}\"\n",
    "\n",
    "# 브라우저에서 인증 URL 열기\n",
    "webbrowser.open(AUTH_URL)\n",
    "\n",
    "# 일회성이기때문에 매번 바뀜\n",
    "# code : ZgIvZ500iBj167H761eU3gLHtMqmlkkOqXd7dGcIcEk5OjYksTLqxAAAAAQKPXRpAAABlAB089chI_W2iNNaeg"
   ]
  },
  {
   "cell_type": "code",
   "execution_count": 21,
   "id": "5ff0724e",
   "metadata": {},
   "outputs": [
    {
     "name": "stdout",
     "output_type": "stream",
     "text": [
      "{'access_token': 'CQYxJqXRP38xU79gyni_h84FcU07RTvzAAAAAQorDKgAAAGUAHWoKaQkDeVh20ZZ', 'token_type': 'bearer', 'refresh_token': 'ZEQbgZWIhkT6sOhv8jC3ilzntmnxAtoDAAAAAgorDKgAAAGUAHWoJqQkDeVh20ZZ', 'expires_in': 21599, 'scope': 'profile_image talk_message profile_nickname', 'refresh_token_expires_in': 5183999}\n"
     ]
    }
   ],
   "source": [
    "import requests\n",
    "import json\n",
    "\n",
    "\n",
    "# 카카오톡 메시지 API\n",
    "url = \"https://kauth.kakao.com/oauth/token\"\n",
    "data = {\n",
    "    \"grant_type\" : \"authorization_code\",\n",
    "    \"client_id\" : \"bea1b1cc6f050b372d5abf9c9709fceb\",\n",
    "    \"redirect_url\" : \"http://127.0.0.1:3000/\",\n",
    "    \"code\" : \"ZgIvZ500iBj167H761eU3gLHtMqmlkkOqXd7dGcIcEk5OjYksTLqxAAAAAQKPXRpAAABlAB089chI_W2iNNaeg\"\n",
    "}\n",
    "response = requests.post(url, data=data)\n",
    "tokens = response.json()\n",
    "print(tokens)\n"
   ]
  },
  {
   "cell_type": "code",
   "execution_count": 22,
   "id": "0339086c",
   "metadata": {},
   "outputs": [],
   "source": [
    "# kakao_code.json 파일 저장\n",
    "with open(\"kakao_code.json\", \"w\") as fp:\n",
    "    json.dump(tokens, fp)"
   ]
  },
  {
   "cell_type": "code",
   "execution_count": 30,
   "id": "450d07c9",
   "metadata": {},
   "outputs": [
    {
     "name": "stdout",
     "output_type": "stream",
     "text": [
      "메시지를 성공적으로 보냈습니다.\n"
     ]
    }
   ],
   "source": [
    "url = \"https://kapi.kakao.com/v2/api/talk/memo/default/send\"\n",
    "headers = {\n",
    "    \"Authorization\": \"Bearer \" + \"CQYxJqXRP38xU79gyni_h84FcU07RTvzAAAAAQorDKgAAAGUAHWoKaQkDeVh20ZZ\"\n",
    "}\n",
    "\n",
    "# 추후 URL보다는 저장한 넘어지는 이미지를 보내면 됨!\n",
    "data = {\n",
    "    \"template_object\" : json.dumps({ \"object_type\" : \"text\",\n",
    "                                     \"text\" : \"🚨 긴급상황이 발생하였습니다 🚨\",\n",
    "                                     \"link\" : {\n",
    "                                                 \"web_url\" : \"https://www.youtube.com/watch?v=RMgrAxds3DU\",\n",
    "                                                 \"mobile_web_url\" : \"https://www.google.com/search?sca_esv=5d7f9f4f1d79ea9b&sxsrf=ADLYWIJStBG_YV7mQtQbaaAo6msqrAh2Vw:1735024954801&q=%EB%82%99%EC%83%81+%EC%98%81%EC%83%81&udm=7&fbs=AEQNm0DmKhoYsBCHazhZSCWuALW8l8eUs1i3TeMYPF4tXSfZ95GzcfXnm5XYTvJV_9Qreh2py964ICpZJthXkELijctC8pFBYULoa3-fvQmwK0VJF0ntzsbN_W2CCJL9N57SWFNwWI58jCKaBJSdPgkprHQVK8H1PYOYWXMHTCCV-rDbC44rR6ANM870jZCZRtTKwFWtMIe2&sa=X&ved=2ahUKEwjb1O3Q77-KAxX-rlYBHdOGEfoQtKgLegQIDhAB&biw=1920&bih=911&dpr=1\"\n",
    "                                              }\n",
    "    })\n",
    "}\n",
    "\n",
    "response = requests.post(url, headers=headers, data=data)\n",
    "if response.json().get('result_code') == 0:\n",
    "    print('메시지를 성공적으로 보냈습니다.')\n",
    "else:\n",
    "    print('메시지를 성공적으로 보내지 못했습니다. 오류메시지 : ' + str(response.json()))"
   ]
  },
  {
   "cell_type": "code",
   "execution_count": null,
   "id": "ec130451",
   "metadata": {},
   "outputs": [],
   "source": []
  }
 ],
 "metadata": {
  "kernelspec": {
   "display_name": "Python 3 (ipykernel)",
   "language": "python",
   "name": "python3"
  },
  "language_info": {
   "codemirror_mode": {
    "name": "ipython",
    "version": 3
   },
   "file_extension": ".py",
   "mimetype": "text/x-python",
   "name": "python",
   "nbconvert_exporter": "python",
   "pygments_lexer": "ipython3",
   "version": "3.10.12"
  }
 },
 "nbformat": 4,
 "nbformat_minor": 5
}
